{
 "cells": [
  {
   "cell_type": "markdown",
   "metadata": {},
   "source": [
    "# What is the True Normal Human Body Temperature? \n",
    "\n",
    "#### Background\n",
    "\n",
    "The mean normal body temperature was held to be 37$^{\\circ}$C or 98.6$^{\\circ}$F for more than 120 years since it was first conceptualized and reported by Carl Wunderlich in a famous 1868 book. But, is this value statistically correct?"
   ]
  },
  {
   "cell_type": "markdown",
   "metadata": {},
   "source": [
    "<h3>Exercises</h3>\n",
    "\n",
    "<p>In this exercise, you will analyze a dataset of human body temperatures and employ the concepts of hypothesis testing, confidence intervals, and statistical significance.</p>\n",
    "\n",
    "<p>Answer the following questions <b>in this notebook below and submit to your Github account</b>.</p> \n",
    "\n",
    "<ol>\n",
    "<li>  Is the distribution of body temperatures normal? \n",
    "    <ul>\n",
    "    <li> Although this is not a requirement for the Central Limit Theorem to hold (read the introduction on Wikipedia's page about the CLT carefully: https://en.wikipedia.org/wiki/Central_limit_theorem), it gives us some peace of mind that the population may also be normally distributed if we assume that this sample is representative of the population.\n",
    "    <li> Think about the way you're going to check for the normality of the distribution. Graphical methods are usually used first, but there are also other ways: https://en.wikipedia.org/wiki/Normality_test\n",
    "    </ul>\n",
    "<li>  Is the sample size large? Are the observations independent?\n",
    "    <ul>\n",
    "    <li> Remember that this is a condition for the Central Limit Theorem, and hence the statistical tests we are using, to apply.\n",
    "    </ul>\n",
    "<li>  Is the true population mean really 98.6 degrees F?\n",
    "    <ul>\n",
    "    <li> First, try a bootstrap hypothesis test.\n",
    "    <li> Now, let's try frequentist statistical testing. Would you use a one-sample or two-sample test? Why?\n",
    "    <li> In this situation, is it appropriate to use the $t$ or $z$ statistic? \n",
    "    <li> Now try using the other test. How is the result be different? Why?\n",
    "    </ul>\n",
    "<li>  Draw a small sample of size 10 from the data and repeat both frequentist tests. \n",
    "    <ul>\n",
    "    <li> Which one is the correct one to use? \n",
    "    <li> What do you notice? What does this tell you about the difference in application of the $t$ and $z$ statistic?\n",
    "    </ul>\n",
    "<li>  At what temperature should we consider someone's temperature to be \"abnormal\"?\n",
    "    <ul>\n",
    "    <li> As in the previous example, try calculating everything using the boostrap approach, as well as the frequentist approach.\n",
    "    <li> Start by computing the margin of error and confidence interval. When calculating the confidence interval, keep in mind that you should use the appropriate formula for one draw, and not N draws.\n",
    "    </ul>\n",
    "<li>  Is there a significant difference between males and females in normal temperature?\n",
    "    <ul>\n",
    "    <li> What testing approach did you use and why?\n",
    "    <li> Write a story with your conclusion in the context of the original problem.\n",
    "    </ul>\n",
    "</ol>\n",
    "\n",
    "You can include written notes in notebook cells using Markdown: \n",
    "   - In the control panel at the top, choose Cell > Cell Type > Markdown\n",
    "   - Markdown syntax: http://nestacms.com/docs/creating-content/markdown-cheat-sheet\n",
    "\n",
    "#### Resources\n",
    "\n",
    "+ Information and data sources: http://www.amstat.org/publications/jse/datasets/normtemp.txt, http://www.amstat.org/publications/jse/jse_data_archive.htm\n",
    "+ Markdown syntax: http://nestacms.com/docs/creating-content/markdown-cheat-sheet\n",
    "\n",
    "****"
   ]
  },
  {
   "cell_type": "code",
   "execution_count": 1,
   "metadata": {
    "collapsed": true
   },
   "outputs": [],
   "source": [
    "import pandas as pd\n",
    "file = ('C:/Users/Ariel/Desktop/01 DATA SCIENCE/Springboard/8.3 EDA Mini-Projects/EDA #1 Analyze Human Body Temp/1520467485_dsc_human_temp/EDA_human_temperature/data/human_body_temperature.csv')\n",
    "df = pd.read_csv(file)"
   ]
  },
  {
   "cell_type": "code",
   "execution_count": 2,
   "metadata": {
    "collapsed": true
   },
   "outputs": [],
   "source": [
    "# Your work here."
   ]
  },
  {
   "cell_type": "markdown",
   "metadata": {},
   "source": [
    "# 1) Is the distribution of body temperatures normal? "
   ]
  },
  {
   "cell_type": "code",
   "execution_count": 3,
   "metadata": {
    "collapsed": true
   },
   "outputs": [],
   "source": [
    "# Import plotting modules\n",
    "import numpy as np\n",
    "import matplotlib.pyplot as plt\n",
    "import pylab \n",
    "import scipy.stats as stats\n",
    "import seaborn as sns\n",
    "\n",
    "%matplotlib inline"
   ]
  },
  {
   "cell_type": "code",
   "execution_count": 4,
   "metadata": {},
   "outputs": [
    {
     "name": "stdout",
     "output_type": "stream",
     "text": [
      "   temperature gender  heart_rate\n",
      "0         99.3      F        68.0\n",
      "1         98.4      F        81.0\n",
      "2         97.8      M        73.0 \n",
      "\n",
      "length of dataframe: 130\n"
     ]
    }
   ],
   "source": [
    "# Glance at the data\n",
    "print(df.head(3), '\\n')\n",
    "print('length of dataframe:', len(df))"
   ]
  },
  {
   "cell_type": "code",
   "execution_count": 5,
   "metadata": {},
   "outputs": [
    {
     "data": {
      "image/png": "[encoded data removed]",
      "text/plain": [
       "<matplotlib.figure.Figure at 0x1bfaa2abba8>"
      ]
     },
     "metadata": {},
     "output_type": "display_data"
    },
    {
     "data": {
      "image/png": "[encoded data removed]",
      "text/plain": [
       "<matplotlib.figure.Figure at 0x1bfa3eac710>"
      ]
     },
     "metadata": {},
     "output_type": "display_data"
    },
    {
     "data": {
      "image/png": "[encoded data removed]",
      "text/plain": [
       "<matplotlib.figure.Figure at 0x1bfaa4b6240>"
      ]
     },
     "metadata": {},
     "output_type": "display_data"
    },
    {
     "data": {
      "image/png": "[encoded data removed]",
      "text/plain": [
       "<matplotlib.figure.Figure at 0x1bfaa76b860>"
      ]
     },
     "metadata": {},
     "output_type": "display_data"
    },
    {
     "data": {
      "image/png": "[encoded data removed]",
      "text/plain": [
       "<matplotlib.figure.Figure at 0x1bfaa7469b0>"
      ]
     },
     "metadata": {},
     "output_type": "display_data"
    }
   ],
   "source": [
    "y = np.array(df.temperature)\n",
    "\n",
    "# histogram\n",
    "plt.hist(y, normed=True, bins = 10)\n",
    "plt.title('Body Temperature - Histogram')\n",
    "plt.xlabel('Temperature')\n",
    "plt.show()\n",
    "\n",
    "# boxplot\n",
    "plt.boxplot(y)\n",
    "plt.title('Body Temperature - Box Plot')\n",
    "plt.ylabel(' Temperature')\n",
    "plt.show()\n",
    "\n",
    "# qq-plot\n",
    "stats.probplot(y, dist=\"norm\", plot=pylab)\n",
    "plt.title('Body Temperature - QQ Plot')\n",
    "plt.ylabel(' Temperature')\n",
    "pylab.show()\n",
    "\n",
    "# scatter plot\n",
    "plt.plot(y, marker='.', linestyle='none')\n",
    "plt.title('Body Temperature - Scatter Plot')\n",
    "plt.xlabel('Subject')\n",
    "plt.ylabel('Temperature')\n",
    "plt.show()\n",
    "\n",
    "\n",
    "# statistics needed to display Normal Distribution CDF \n",
    "mean = np.mean(df.temperature)\n",
    "stand_dev = np.std(df.temperature)\n",
    "np.random.seed(1000)\n",
    "normal_distr = np.random.normal(mean, stand_dev, 100000)\n",
    "\n",
    "\n",
    "# created ECDF function\n",
    "def ecdf(data):\n",
    "    \"\"\"Compute ECDF for a one-dimensional array of measurements.\"\"\"\n",
    "    # Number of data points: n\n",
    "    n = len(data)\n",
    "\n",
    "    # x-data for the ECDF: x\n",
    "    x = np.sort(data)\n",
    "\n",
    "    # y-data for the ECDF: y\n",
    "    y = np.arange(1, n+1) / n\n",
    "\n",
    "    return x, y\n",
    "\n",
    "\n",
    "# ECDF and Normal Distribution Plot:\n",
    "x_temp, y_temp = ecdf(df.temperature)\n",
    "x_normal_distr, y_normal_distr = ecdf(normal_distr)\n",
    "\n",
    "fig = plt.plot(x_temp, y_temp, marker='.', linestyle='none')\n",
    "fig = plt.plot(x_normal_distr, y_normal_distr)\n",
    "\n",
    "fig = plt.legend(('Empirical Data', 'Normal Distribution'), loc='center right')\n",
    "fig = plt.xlabel('Temperature')\n",
    "fig = plt.ylabel('ECDF')\n",
    "fig = plt.title('ECDF and Normal Distribution of Body Temperatures')\n",
    "plt.show()"
   ]
  },
  {
   "cell_type": "markdown",
   "metadata": {
    "collapsed": true
   },
   "source": [
    "The histogram and and box plot show that the data is right skewed. However, the QQ-Plot shows that the data still seems to be mostly normally distributed. In the ECDF and Normal Distribution graph we can see that the data closely follows the normal distribution. Therefore, it can be concluded that the data is normally distributed. "
   ]
  },
  {
   "cell_type": "markdown",
   "metadata": {},
   "source": [
    "# 2) Is the sample size large? Are the observations independent?  \n",
    "\n",
    "The sample size of 130 is larger than the standard n >= 30. The data is also normally distributed which meets the requirement for the Central Limit Theorem to apply. Therefore, the sample size is large enough. \n",
    "\n",
    "Since each subject's normal body temperature is independent of anyone elses, the observations are independent. "
   ]
  },
  {
   "cell_type": "markdown",
   "metadata": {},
   "source": [
    "# 3) Is the true population mean really 98.6 degrees F? "
   ]
  },
  {
   "cell_type": "markdown",
   "metadata": {},
   "source": [
    "### 3a) Bootstrap Hypothesis Test:\n",
    "\n",
    "Null-Hypothesis: our sample mean = 98.6 degrees\n",
    "\n",
    "Alt-Hypothesis: our sample mean != 98.6 degrees\n",
    "\n",
    "alpha= .05"
   ]
  },
  {
   "cell_type": "code",
   "execution_count": 6,
   "metadata": {},
   "outputs": [
    {
     "name": "stdout",
     "output_type": "stream",
     "text": [
      "Bootstrap Mean: 98.2823076923\n",
      "p-value: 0.0\n"
     ]
    }
   ],
   "source": [
    "# Establishing the seed\n",
    "np.random.seed(100)\n",
    "\n",
    "# Initialize array of replicates: bs_replicates\n",
    "bs_replicates = np.empty(100000)\n",
    "\n",
    "bs_sample = np.random.choice(df.temperature, size=len(df.temperature))\n",
    "\n",
    "# Generate replicates\n",
    "for i in range(len(bs_replicates)):\n",
    "    bs_replicates[i] = np.mean(bs_sample)\n",
    "\n",
    "# calculating the p-value\n",
    "p = np.sum(bs_replicates == 98.6) / len(bs_replicates)\n",
    "\n",
    "print(\"Bootstrap Mean:\", np.mean(bs_replicates))\n",
    "print(\"p-value:\", p)\n"
   ]
  },
  {
   "cell_type": "markdown",
   "metadata": {},
   "source": [
    "#### 3a) Answer:\n",
    "\n",
    "The p-value is smaller than the .05 meaning that there is strong evidence in favor of the alternate hypothesis. Therefore we reject the Null-Hypothesis that the our mean sample is equal to the generally accepted body temperature of 98.6 degrees. "
   ]
  },
  {
   "cell_type": "markdown",
   "metadata": {},
   "source": [
    "### 3b) Now, let's try frequentist statistical testing. Would you use a one-sample or two-sample test? Why? \n",
    "\n",
    "I will use a one-sample test as we are comparing one sample (our data subjects) to the population (all humans). \n",
    "\n",
    "### 3c) In this situation, is it appropriate to use the t or z statistic? \n",
    "\n",
    "The z-stat requires the standard deviation of the population, which is unkown. Only the t-stat can be used as we only need the sample mean and sample standard deviation. "
   ]
  },
  {
   "cell_type": "markdown",
   "metadata": {},
   "source": [
    "### 3d) Now try using the other test. How is the result different? Why? "
   ]
  },
  {
   "cell_type": "code",
   "execution_count": 7,
   "metadata": {},
   "outputs": [
    {
     "name": "stdout",
     "output_type": "stream",
     "text": [
      "Ttest_1sampResult(statistic=-5.4548232923645195, pvalue=2.4106320415561276e-07)\n"
     ]
    }
   ],
   "source": [
    "t_stat = stats.ttest_1samp(df.temperature, 98.6)\n",
    "print(t_stat)"
   ]
  },
  {
   "cell_type": "markdown",
   "metadata": {},
   "source": [
    "Here too the p-value is much smaller than .05. We reject the null hypothesis and accept the alternative hypothesis that the average body temperature is not equal to 98.6 degrees"
   ]
  },
  {
   "cell_type": "markdown",
   "metadata": {},
   "source": [
    "# 4) Draw a small sample of size 10 from the data and repeat both frequentist tests. \n",
    "\n",
    "Which one is the correct one to use? \n",
    "    \n",
    "What do you notice? What does this tell you about the difference in application of the t and z-statistic? \n",
    "\n",
    "Answer: Since the standard deviation of the population is unknown, only the t-statistic can be used."
   ]
  },
  {
   "cell_type": "code",
   "execution_count": 8,
   "metadata": {},
   "outputs": [
    {
     "name": "stdout",
     "output_type": "stream",
     "text": [
      "Ttest_1sampResult(statistic=-1.8244909216786074, pvalue=0.10137833233558072)\n"
     ]
    }
   ],
   "source": [
    "# Establishing the seed\n",
    "np.random.seed(100)\n",
    "\n",
    "# Small sample of 10 from the data:\n",
    "sample = np.random.choice(df.temperature, size=10)\n",
    "\n",
    "t_stat_sample = stats.ttest_1samp(sample, 98.6)\n",
    "\n",
    "print(t_stat_sample)"
   ]
  },
  {
   "cell_type": "code",
   "execution_count": 9,
   "metadata": {},
   "outputs": [
    {
     "data": {
      "image/png": "[encoded data removed]",
      "text/plain": [
       "<matplotlib.figure.Figure at 0x1bfaa3f2940>"
      ]
     },
     "metadata": {},
     "output_type": "display_data"
    }
   ],
   "source": [
    "# ECDF and Normal Distribution Plot:\n",
    "sample_x_temp, sample_y_temp = ecdf(sample)\n",
    "x_normal_distr, y_normal_distr = ecdf(normal_distr)\n",
    "\n",
    "fig = plt.plot(sample_x_temp, sample_y_temp, marker='.', linestyle='none')\n",
    "fig = plt.plot(x_normal_distr, y_normal_distr)\n",
    "\n",
    "fig = plt.legend(('Empirical Data', 'Normal Distribution'), loc='center right')\n",
    "fig = plt.xlabel('Temperature')\n",
    "fig = plt.ylabel('ECDF')\n",
    "fig = plt.title('ECDF and Normal Distribution of Body Temperatures')\n",
    "plt.show()"
   ]
  },
  {
   "cell_type": "markdown",
   "metadata": {},
   "source": [
    "Answer: The p-value is greater than .05, we would not be able to reject the null hypothesis unlike before. This is due to the sample size of 10 not being large enough. It can be seen on the ECDF above that the small sample data does not follow the normal distribution close enough. Therefore, it is not normally destributed and the Central Limit Theorem does not apply. "
   ]
  },
  {
   "cell_type": "markdown",
   "metadata": {},
   "source": [
    "# 5) At what temperature should we consider someone's temperature to be \"abnormal\"? \n",
    "As in the previous example, try calculating everything using the boostrap approach, as well as the frequentist approach. \n",
    "\n",
    "Start by computing the margin of error and confidence interval. When calculating the confidence interval, keep in mind that you should use the appropriate formula for one draw, and not N draws. "
   ]
  },
  {
   "cell_type": "markdown",
   "metadata": {},
   "source": [
    "#### Bootstrap Confidence Intervals & Margin of Error"
   ]
  },
  {
   "cell_type": "code",
   "execution_count": 10,
   "metadata": {},
   "outputs": [
    {
     "name": "stdout",
     "output_type": "stream",
     "text": [
      "Lower Bound: 98.2823076923\n",
      "Upper Bound: 98.2823076923\n",
      "Margin of Error: +/- -0.0330769230769\n"
     ]
    }
   ],
   "source": [
    "conf_intervals = stats.norm.interval(0.95, loc=np.mean(bs_replicates), scale=np.std(bs_replicates))\n",
    "\n",
    "print('Lower Bound:', conf_intervals[0])\n",
    "print('Upper Bound:',conf_intervals[1])\n",
    "print('Margin of Error: +/-', (mean - conf_intervals[0]))"
   ]
  },
  {
   "cell_type": "markdown",
   "metadata": {},
   "source": [
    "#### Frequentist Approach Confidence Intervals & Margin of Error"
   ]
  },
  {
   "cell_type": "code",
   "execution_count": 11,
   "metadata": {},
   "outputs": [
    {
     "name": "stdout",
     "output_type": "stream",
     "text": [
      "Lower Bound: 96.8177558267\n",
      "Upper Bound: 99.6807057117\n",
      "Margin of Error: +/- 1.43147494248\n"
     ]
    }
   ],
   "source": [
    "stand_dev = np.std(df.temperature)\n",
    "conf_intervals = stats.norm.interval(0.95, loc=mean, scale=stand_dev)\n",
    "\n",
    "print('Lower Bound:', conf_intervals[0])\n",
    "print('Upper Bound:',conf_intervals[1])\n",
    "print('Margin of Error: +/-', (mean - conf_intervals[0]))"
   ]
  },
  {
   "cell_type": "markdown",
   "metadata": {},
   "source": [
    "# 6) Is there a significant difference between males and females in normal temperature? \n",
    "\n",
    "What testing approach did you use and why? \n",
    "\n",
    "    Answer: I used a two-sample t-test as I'm comparing the mean of two, independent samples.\n",
    "\n",
    "Write a story with your conclusion in the context of the original problem. "
   ]
  },
  {
   "cell_type": "markdown",
   "metadata": {},
   "source": [
    "\n",
    "\n",
    "\n",
    "Null-Hypothesis: mean temperature of males = mean temperature of females\n",
    "\n",
    "Alt-Hypothesis: mean temperature of males != mean temperature of females\n",
    "\n",
    "alpha= .05"
   ]
  },
  {
   "cell_type": "code",
   "execution_count": 12,
   "metadata": {},
   "outputs": [
    {
     "name": "stdout",
     "output_type": "stream",
     "text": [
      "Number of males: 65\n",
      "Number of females: 65\n"
     ]
    }
   ],
   "source": [
    "males = df[df.gender == 'M']\n",
    "females = df[df.gender == 'F']\n",
    "\n",
    "print('Number of males:', len(males))\n",
    "print('Number of females:', len(females))"
   ]
  },
  {
   "cell_type": "code",
   "execution_count": 13,
   "metadata": {},
   "outputs": [
    {
     "name": "stdout",
     "output_type": "stream",
     "text": [
      "Male Mean Body Temperature: 98.1046153846154\n",
      "Female Mean Body Temperature: 98.39384615384613 \n",
      "\n",
      "Ttest_indResult(statistic=-2.2854345381656103, pvalue=0.023931883122395609)\n"
     ]
    }
   ],
   "source": [
    "# Getting temperatures per sex\n",
    "m_temp = males.temperature\n",
    "f_temp = females.temperature\n",
    "\n",
    "# T-stats\n",
    "t_stat_2 = stats.ttest_ind(m_temp, f_temp)\n",
    "\n",
    "print('Male Mean Body Temperature:', np.mean(m_temp))\n",
    "print('Female Mean Body Temperature:', np.mean(f_temp),'\\n')\n",
    "print(t_stat_2)\n"
   ]
  },
  {
   "cell_type": "markdown",
   "metadata": {},
   "source": [
    "The p-value is smaller than .05 meaning that there is strong evidence in favor of the alternate hypothesis. Therefore we reject the Null-Hypothesis that the normal body temperautre for men is equal that of women."
   ]
  },
  {
   "cell_type": "markdown",
   "metadata": {},
   "source": [
    "## Conclusion\n",
    "\n",
    "This analysis found that the mean body temperature for humans is not 98.6 degree Farenheit. Instead, it is 98.28 degrees with a 95% confience interval of 1.4315. \n",
    "\n",
    "Furthermore, it was shown that the mean body temperature for men and women are different. The mean body temperature for men is 98.1 degrees and 98.39 degrees for women. "
   ]
  }
 ],
 "metadata": {
  "kernelspec": {
   "display_name": "Python 3",
   "language": "python",
   "name": "python3"
  },
  "language_info": {
   "codemirror_mode": {
    "name": "ipython",
    "version": 3
   },
   "file_extension": ".py",
   "mimetype": "text/x-python",
   "name": "python",
   "nbconvert_exporter": "python",
   "pygments_lexer": "ipython3",
   "version": "3.6.3"
  }
 },
 "nbformat": 4,
 "nbformat_minor": 1
}
